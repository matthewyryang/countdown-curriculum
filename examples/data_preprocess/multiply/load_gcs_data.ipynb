{
 "cells": [
  {
   "cell_type": "code",
   "execution_count": 1,
   "metadata": {},
   "outputs": [],
   "source": [
    "import json, pickle"
   ]
  },
  {
   "cell_type": "code",
   "execution_count": null,
   "metadata": {},
   "outputs": [],
   "source": [
    "for difficulty in [2, 3, 4]:\n",
    "    with open(f\"/data/group_data/rl/datasets/multiply/multiply-train-{difficulty}.json\", \"r\") as f:\n",
    "        data = json.load(f)\n",
    "\n",
    "    with open(f\"/data/group_data/rl/myang4/multiply/pass@4_0_100_difficulty_{difficulty}.pkl\", \"rb\") as f:\n",
    "        inference_data = pickle.load(f)\n",
    "    \n",
    "    new_data = {}\n",
    "    for i in range(len(inference_data)):\n",
    "        texts = [output.text for output in inference_data[i].outputs]\n",
    "    \n",
    "        new_data[i] = data[i]\n",
    "        new_data[i][\"qwen32b-samples\"] = texts\n",
    "\n",
    "    with open(f\"/data/group_data/rl/myang4/multiply/multiply-train-{difficulty}-inferenced.json\", \"w\") as f:\n",
    "        json.dump(new_data, f, indent=4)"
   ]
  },
  {
   "cell_type": "code",
   "execution_count": null,
   "metadata": {},
   "outputs": [
    {
     "name": "stdout",
     "output_type": "stream",
     "text": [
      "[\"I need to calculate the product of 91 and 24.\\n\\nFirst, I'll break down 24 into 20 and 4.\\n\\nNext, I'll multiply 91 by 20, which gives me 1,820.\\n\\nThen, I'll multiply 91 by 4, resulting in 364.\\n\\nFinally, I'll add these two products together: 1,820 plus 364 equals 2,184.\\n</think>\\n\\nTo find the product of **91** and **24**, follow these easy steps:\\n\\n1. **Break Down the Numbers:**\\n   \\n   Let's break down **24** into **20** and **4** for easier multiplication.\\n\\n2. **Multiply 91 by 20:**\\n   \\n   \\\\[\\n   91 \\\\times 20 = 1,\\\\!820\\n   \\\\]\\n\\n3. **Multiply 91 by 4:**\\n   \\n   \\\\[\\n   91 \\\\times 4 = 364\\n   \\\\]\\n\\n4. **Add the Two Products Together:**\\n   \\n   \\\\[\\n   1,\\\\!820 + 364 = 2,\\\\!184\\n   \\\\]\\n\\n5. **Final Answer:**\\n   \\n   \\\\[\\n   \\\\boxed{2,\\\\!184}\\n   \\\\]\", \"To calculate the product of 91 and 24, I can use the standard multiplication method.\\n\\nFirst, I'll multiply 91 by 4, which gives me 364.\\n\\nNext, I'll multiply 91 by 20, resulting in 1820.\\n\\nFinally, I'll add these two results together: 364 plus 1820 equals 2184.\\n\\nSo, the product of 91 and 24 is 2184.\\n</think>\\n\\nTo find the product of **91** and **24**, follow these easy steps:\\n\\n1. **Multiply 91 by 4:**\\n   \\n   \\\\[\\n   91 \\\\times 4 = 364\\n   \\\\]\\n\\n2. **Multiply 91 by 20:**\\n   \\n   \\\\[\\n   91 \\\\times 20 = 1820\\n   \\\\]\\n\\n3. **Add the two results together:**\\n   \\n   \\\\[\\n   364 + 1820 = 2184\\n   \\\\]\\n\\nSo, the product of **91** and **24** is:\\n\\n\\\\[\\n\\\\boxed{2184}\\n\\\\]\", \"To calculate the product of 91 and 24, I will use the standard multiplication method.\\n\\nFirst, I'll break down 24 into 20 and 4.\\n\\nNext, I'll multiply 91 by 20, which equals 1820.\\n\\nThen, I'll multiply 91 by 4, resulting in 364.\\n\\nFinally, I'll add these two results together to get the final product of 2184.\\n</think>\\n\\nTo find the product of **91** and **24**, follow these easy steps:\\n\\n1. **Break down the multiplication:**\\n   \\n   \\\\[\\n   91 \\\\times 24 = 91 \\\\times (20 + 4)\\n   \\\\]\\n\\n2. **Multiply 91 by 20:**\\n   \\n   \\\\[\\n   91 \\\\times 20 = 1,\\\\!820\\n   \\\\]\\n\\n3. **Multiply 91 by 4:**\\n   \\n   \\\\[\\n   91 \\\\times 4 = 364\\n   \\\\]\\n\\n4. **Add the two results together:**\\n   \\n   \\\\[\\n   1,\\\\!820 + 364 = 2,\\\\!184\\n   \\\\]\\n\\nSo, the product of **91** and **24** is:\\n\\n\\\\[\\n\\\\boxed{2,\\\\!184}\\n\\\\]\", \"I need to calculate the product of 91 and 24.\\n\\nFirst, I'll break down 24 into 20 and 4 to make the multiplication easier.\\n\\nI'll multiply 91 by 20, which gives me 1,820.\\n\\nNext, I'll multiply 91 by 4, resulting in 364.\\n\\nFinally, I'll add the two results together: 1,820 plus 364 equals 2,184.\\n</think>\\n\\nTo find the product of **91** and **24**, follow these easy steps:\\n\\n### Step 1: Break Down the Numbers\\nIt's helpful to break down the numbers to simplify the multiplication.\\n\\n\\\\[\\n91 \\\\times 24 = 91 \\\\times (20 + 4)\\n\\\\]\\n\\n### Step 2: Multiply Separately\\nMultiply **91** by each part of the broken-down number.\\n\\n1. **Multiply by 20:**\\n   \\\\[\\n   91 \\\\times 20 = 1,\\\\!820\\n   \\\\]\\n   \\n2. **Multiply by 4:**\\n   \\\\[\\n   91 \\\\times 4 = 364\\n   \\\\]\\n\\n### Step 3: Add the Results\\nNow, add the two products together.\\n\\n\\\\[\\n1,\\\\!820 + 364 = 2,\\\\!184\\n\\\\]\\n\\n### Final Answer\\n\\\\[\\n\\\\boxed{2,\\\\!184}\\n\\\\]\"]\n"
     ]
    }
   ],
   "source": [
    "print()"
   ]
  },
  {
   "cell_type": "code",
   "execution_count": null,
   "metadata": {},
   "outputs": [],
   "source": []
  }
 ],
 "metadata": {
  "kernelspec": {
   "display_name": "vllm3",
   "language": "python",
   "name": "python3"
  },
  "language_info": {
   "codemirror_mode": {
    "name": "ipython",
    "version": 3
   },
   "file_extension": ".py",
   "mimetype": "text/x-python",
   "name": "python",
   "nbconvert_exporter": "python",
   "pygments_lexer": "ipython3",
   "version": "3.12.8"
  }
 },
 "nbformat": 4,
 "nbformat_minor": 2
}
