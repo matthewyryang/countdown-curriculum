{
 "cells": [
  {
   "cell_type": "code",
   "execution_count": 61,
   "metadata": {},
   "outputs": [],
   "source": [
    "import pickle\n",
    "from judge import extracted_boxed_answer_equiv, extract_boxed_answer, is_equiv\n",
    "from datasets import load_dataset\n",
    "from transformers import AutoTokenizer\n",
    "from tqdm import tqdm\n",
    "import seaborn as sns\n",
    "import matplotlib.pyplot as plt"
   ]
  },
  {
   "cell_type": "code",
   "execution_count": 11,
   "metadata": {},
   "outputs": [],
   "source": [
    "ds = load_dataset(\"agentica-org/DeepScaleR-Preview-Dataset\", split='train')\n",
    "tokenizer = AutoTokenizer.from_pretrained(\"deepseek-ai/DeepSeek-R1-Distill-Qwen-1.5B\")"
   ]
  },
  {
   "cell_type": "code",
   "execution_count": 13,
   "metadata": {},
   "outputs": [
    {
     "data": {
      "text/plain": [
       "{'problem': 'The operation $\\\\otimes$ is defined for all nonzero numbers by $a \\\\otimes b = \\\\frac{a^{2}}{b}$. Determine $[(1 \\\\otimes 2) \\\\otimes 3] - [1 \\\\otimes (2 \\\\otimes 3)]$.',\n",
       " 'answer': '-\\\\frac{2}{3}',\n",
       " 'solution': '1. **Apply the operation $\\\\otimes$ to the innermost parentheses first:**\\n   \\\\[\\n   (1 \\\\otimes 2) \\\\otimes 3 = \\\\left(\\\\frac{1^2}{2}\\\\right) \\\\otimes 3 = \\\\frac{1}{2} \\\\otimes 3\\n   \\\\]\\n   \\\\[\\n   1 \\\\otimes (2 \\\\otimes 3) = 1 \\\\otimes \\\\left(\\\\frac{2^2}{3}\\\\right) = 1 \\\\otimes \\\\frac{4}{3}\\n   \\\\]\\n\\n2. **Calculate each part using the definition of $\\\\otimes$:**\\n   \\\\[\\n   \\\\frac{1}{2} \\\\otimes 3 = \\\\frac{\\\\left(\\\\frac{1}{2}\\\\right)^2}{3} = \\\\frac{\\\\frac{1}{4}}{3} = \\\\frac{1}{12}\\n   \\\\]\\n   \\\\[\\n   1 \\\\otimes \\\\frac{4}{3} = \\\\frac{1^2}{\\\\frac{4}{3}} = \\\\frac{1}{\\\\frac{4}{3}} = \\\\frac{3}{4}\\n   \\\\]\\n\\n3. **Subtract the two results:**\\n   \\\\[\\n   \\\\left(\\\\frac{1}{12}\\\\right) - \\\\left(\\\\frac{3}{4}\\\\right) = \\\\frac{1}{12} - \\\\frac{9}{12} = -\\\\frac{8}{12} = -\\\\frac{2}{3}\\n   \\\\]\\n\\n4. **Conclude with the final answer:**\\n   \\\\[\\n   \\\\boxed{A}\\n   \\\\]'}"
      ]
     },
     "execution_count": 13,
     "metadata": {},
     "output_type": "execute_result"
    }
   ],
   "source": [
    "ds[0]"
   ]
  },
  {
   "cell_type": "code",
   "execution_count": 37,
   "metadata": {},
   "outputs": [],
   "source": [
    "def get_stats(data):\n",
    "\n",
    "    rewards = []\n",
    "    lengths = []\n",
    "    correct_lengths = []\n",
    "    incorrect_lengths = []\n",
    "    \n",
    "    for key in data:\n",
    "\n",
    "        total_length = 0\n",
    "        total_correct_length = 0\n",
    "        total_incorrect_length = 0\n",
    "        total_reward = 0\n",
    "        \n",
    "        for output in data[key].outputs:\n",
    "            length = len(output.token_ids)\n",
    "            reward = is_equiv(extract_boxed_answer(output.text), ds[key]['answer'])\n",
    "            \n",
    "            total_length += length\n",
    "            total_reward += reward\n",
    "            if reward:\n",
    "                total_correct_length += len(output.token_ids)\n",
    "            else:\n",
    "                total_incorrect_length += len(output.token_ids)\n",
    "        \n",
    "        total = len(data[key].outputs)\n",
    "\n",
    "        lengths.append(total_length / total)\n",
    "        rewards.append(total_reward / total)\n",
    "        \n",
    "        if total_reward == 0:\n",
    "            correct_lengths.append(-1)\n",
    "        else:\n",
    "            correct_lengths.append(total_correct_length / total_reward)\n",
    "        \n",
    "        if total_reward == total:\n",
    "            incorrect_lengths.append(-1)\n",
    "        else:\n",
    "            incorrect_lengths.append(total_incorrect_length / (total - total_reward))\n",
    "    \n",
    "    return rewards, lengths, correct_lengths, incorrect_lengths\n"
   ]
  },
  {
   "cell_type": "code",
   "execution_count": 49,
   "metadata": {},
   "outputs": [
    {
     "name": "stderr",
     "output_type": "stream",
     "text": [
      "  0%|          | 0/40 [00:00<?, ?it/s]"
     ]
    },
    {
     "name": "stdout",
     "output_type": "stream",
     "text": [
      "0 1024\n"
     ]
    },
    {
     "name": "stderr",
     "output_type": "stream",
     "text": [
      "  2%|▎         | 1/40 [00:04<02:46,  4.28s/it]"
     ]
    },
    {
     "name": "stdout",
     "output_type": "stream",
     "text": [
      "1024 2048\n"
     ]
    },
    {
     "name": "stderr",
     "output_type": "stream",
     "text": [
      "  5%|▌         | 2/40 [00:07<02:17,  3.62s/it]"
     ]
    },
    {
     "name": "stdout",
     "output_type": "stream",
     "text": [
      "2048 3072\n"
     ]
    },
    {
     "name": "stderr",
     "output_type": "stream",
     "text": [
      "  8%|▊         | 3/40 [00:10<02:03,  3.33s/it]"
     ]
    },
    {
     "name": "stdout",
     "output_type": "stream",
     "text": [
      "3072 4096\n"
     ]
    },
    {
     "name": "stderr",
     "output_type": "stream",
     "text": [
      " 10%|█         | 4/40 [00:14<02:10,  3.61s/it]"
     ]
    },
    {
     "name": "stdout",
     "output_type": "stream",
     "text": [
      "4096 5120\n"
     ]
    },
    {
     "name": "stderr",
     "output_type": "stream",
     "text": [
      " 12%|█▎        | 5/40 [00:18<02:15,  3.87s/it]"
     ]
    },
    {
     "name": "stdout",
     "output_type": "stream",
     "text": [
      "5120 6144\n"
     ]
    },
    {
     "name": "stderr",
     "output_type": "stream",
     "text": [
      " 15%|█▌        | 6/40 [00:21<02:01,  3.59s/it]"
     ]
    },
    {
     "name": "stdout",
     "output_type": "stream",
     "text": [
      "6144 7168\n"
     ]
    },
    {
     "name": "stderr",
     "output_type": "stream",
     "text": [
      " 18%|█▊        | 7/40 [00:25<02:00,  3.66s/it]"
     ]
    },
    {
     "name": "stdout",
     "output_type": "stream",
     "text": [
      "7168 8192\n"
     ]
    },
    {
     "name": "stderr",
     "output_type": "stream",
     "text": [
      " 20%|██        | 8/40 [00:29<01:55,  3.60s/it]"
     ]
    },
    {
     "name": "stdout",
     "output_type": "stream",
     "text": [
      "8192 9216\n"
     ]
    },
    {
     "name": "stderr",
     "output_type": "stream",
     "text": [
      " 22%|██▎       | 9/40 [00:32<01:52,  3.64s/it]"
     ]
    },
    {
     "name": "stdout",
     "output_type": "stream",
     "text": [
      "9216 10240\n"
     ]
    },
    {
     "name": "stderr",
     "output_type": "stream",
     "text": [
      " 25%|██▌       | 10/40 [00:36<01:49,  3.64s/it]"
     ]
    },
    {
     "name": "stdout",
     "output_type": "stream",
     "text": [
      "10240 11264\n"
     ]
    },
    {
     "name": "stderr",
     "output_type": "stream",
     "text": [
      " 28%|██▊       | 11/40 [00:39<01:42,  3.53s/it]"
     ]
    },
    {
     "name": "stdout",
     "output_type": "stream",
     "text": [
      "11264 12288\n"
     ]
    },
    {
     "name": "stderr",
     "output_type": "stream",
     "text": [
      " 30%|███       | 12/40 [00:43<01:39,  3.55s/it]"
     ]
    },
    {
     "name": "stdout",
     "output_type": "stream",
     "text": [
      "12288 13312\n"
     ]
    },
    {
     "name": "stderr",
     "output_type": "stream",
     "text": [
      " 32%|███▎      | 13/40 [00:47<01:38,  3.63s/it]"
     ]
    },
    {
     "name": "stdout",
     "output_type": "stream",
     "text": [
      "13312 14336\n"
     ]
    },
    {
     "name": "stderr",
     "output_type": "stream",
     "text": [
      " 35%|███▌      | 14/40 [00:51<01:36,  3.72s/it]"
     ]
    },
    {
     "name": "stdout",
     "output_type": "stream",
     "text": [
      "14336 15360\n"
     ]
    },
    {
     "name": "stderr",
     "output_type": "stream",
     "text": [
      " 38%|███▊      | 15/40 [00:55<01:35,  3.83s/it]"
     ]
    },
    {
     "name": "stdout",
     "output_type": "stream",
     "text": [
      "15360 16384\n"
     ]
    },
    {
     "name": "stderr",
     "output_type": "stream",
     "text": [
      " 40%|████      | 16/40 [00:58<01:29,  3.74s/it]"
     ]
    },
    {
     "name": "stdout",
     "output_type": "stream",
     "text": [
      "16384 17408\n"
     ]
    },
    {
     "name": "stderr",
     "output_type": "stream",
     "text": [
      " 42%|████▎     | 17/40 [01:02<01:23,  3.65s/it]"
     ]
    },
    {
     "name": "stdout",
     "output_type": "stream",
     "text": [
      "17408 18432\n"
     ]
    },
    {
     "name": "stderr",
     "output_type": "stream",
     "text": [
      " 45%|████▌     | 18/40 [01:05<01:17,  3.51s/it]"
     ]
    },
    {
     "name": "stdout",
     "output_type": "stream",
     "text": [
      "18432 19456\n"
     ]
    },
    {
     "name": "stderr",
     "output_type": "stream",
     "text": [
      " 48%|████▊     | 19/40 [01:08<01:11,  3.40s/it]"
     ]
    },
    {
     "name": "stdout",
     "output_type": "stream",
     "text": [
      "19456 20480\n"
     ]
    },
    {
     "name": "stderr",
     "output_type": "stream",
     "text": [
      " 50%|█████     | 20/40 [01:11<01:06,  3.31s/it]"
     ]
    },
    {
     "name": "stdout",
     "output_type": "stream",
     "text": [
      "20480 21504\n"
     ]
    },
    {
     "name": "stderr",
     "output_type": "stream",
     "text": [
      " 52%|█████▎    | 21/40 [01:14<01:00,  3.20s/it]"
     ]
    },
    {
     "name": "stdout",
     "output_type": "stream",
     "text": [
      "21504 22528\n"
     ]
    },
    {
     "name": "stderr",
     "output_type": "stream",
     "text": [
      " 55%|█████▌    | 22/40 [01:17<00:55,  3.06s/it]"
     ]
    },
    {
     "name": "stdout",
     "output_type": "stream",
     "text": [
      "22528 23552\n"
     ]
    },
    {
     "name": "stderr",
     "output_type": "stream",
     "text": [
      " 57%|█████▊    | 23/40 [01:20<00:51,  3.04s/it]"
     ]
    },
    {
     "name": "stdout",
     "output_type": "stream",
     "text": [
      "23552 24576\n"
     ]
    },
    {
     "name": "stderr",
     "output_type": "stream",
     "text": [
      " 60%|██████    | 24/40 [01:23<00:48,  3.03s/it]"
     ]
    },
    {
     "name": "stdout",
     "output_type": "stream",
     "text": [
      "24576 25600\n"
     ]
    },
    {
     "name": "stderr",
     "output_type": "stream",
     "text": [
      " 62%|██████▎   | 25/40 [01:26<00:45,  3.07s/it]"
     ]
    },
    {
     "name": "stdout",
     "output_type": "stream",
     "text": [
      "25600 26624\n"
     ]
    },
    {
     "name": "stderr",
     "output_type": "stream",
     "text": [
      " 65%|██████▌   | 26/40 [01:30<00:45,  3.25s/it]"
     ]
    },
    {
     "name": "stdout",
     "output_type": "stream",
     "text": [
      "26624 27648\n"
     ]
    },
    {
     "name": "stderr",
     "output_type": "stream",
     "text": [
      " 68%|██████▊   | 27/40 [01:33<00:44,  3.42s/it]"
     ]
    },
    {
     "name": "stdout",
     "output_type": "stream",
     "text": [
      "27648 28672\n"
     ]
    },
    {
     "name": "stderr",
     "output_type": "stream",
     "text": [
      " 70%|███████   | 28/40 [01:37<00:42,  3.58s/it]"
     ]
    },
    {
     "name": "stdout",
     "output_type": "stream",
     "text": [
      "28672 29696\n"
     ]
    },
    {
     "name": "stderr",
     "output_type": "stream",
     "text": [
      " 72%|███████▎  | 29/40 [01:41<00:39,  3.61s/it]"
     ]
    },
    {
     "name": "stdout",
     "output_type": "stream",
     "text": [
      "29696 30720\n"
     ]
    },
    {
     "name": "stderr",
     "output_type": "stream",
     "text": [
      " 75%|███████▌  | 30/40 [01:45<00:36,  3.64s/it]"
     ]
    },
    {
     "name": "stdout",
     "output_type": "stream",
     "text": [
      "30720 31744\n"
     ]
    },
    {
     "name": "stderr",
     "output_type": "stream",
     "text": [
      " 78%|███████▊  | 31/40 [01:49<00:33,  3.68s/it]"
     ]
    },
    {
     "name": "stdout",
     "output_type": "stream",
     "text": [
      "31744 32768\n"
     ]
    },
    {
     "name": "stderr",
     "output_type": "stream",
     "text": [
      " 80%|████████  | 32/40 [01:52<00:28,  3.60s/it]"
     ]
    },
    {
     "name": "stdout",
     "output_type": "stream",
     "text": [
      "32768 33792\n"
     ]
    },
    {
     "name": "stderr",
     "output_type": "stream",
     "text": [
      " 82%|████████▎ | 33/40 [01:54<00:22,  3.27s/it]"
     ]
    },
    {
     "name": "stdout",
     "output_type": "stream",
     "text": [
      "33792 34816\n"
     ]
    },
    {
     "name": "stderr",
     "output_type": "stream",
     "text": [
      " 85%|████████▌ | 34/40 [01:56<00:16,  2.82s/it]"
     ]
    },
    {
     "name": "stdout",
     "output_type": "stream",
     "text": [
      "34816 35840\n"
     ]
    },
    {
     "name": "stderr",
     "output_type": "stream",
     "text": [
      " 88%|████████▊ | 35/40 [01:58<00:13,  2.62s/it]"
     ]
    },
    {
     "name": "stdout",
     "output_type": "stream",
     "text": [
      "35840 36864\n"
     ]
    },
    {
     "name": "stderr",
     "output_type": "stream",
     "text": [
      " 90%|█████████ | 36/40 [02:02<00:11,  2.80s/it]"
     ]
    },
    {
     "name": "stdout",
     "output_type": "stream",
     "text": [
      "36864 37888\n"
     ]
    },
    {
     "name": "stderr",
     "output_type": "stream",
     "text": [
      " 92%|█████████▎| 37/40 [02:04<00:08,  2.74s/it]"
     ]
    },
    {
     "name": "stdout",
     "output_type": "stream",
     "text": [
      "37888 38912\n"
     ]
    },
    {
     "name": "stderr",
     "output_type": "stream",
     "text": [
      " 95%|█████████▌| 38/40 [02:06<00:04,  2.48s/it]"
     ]
    },
    {
     "name": "stdout",
     "output_type": "stream",
     "text": [
      "38912 39936\n"
     ]
    },
    {
     "name": "stderr",
     "output_type": "stream",
     "text": [
      " 98%|█████████▊| 39/40 [02:08<00:02,  2.26s/it]"
     ]
    },
    {
     "name": "stdout",
     "output_type": "stream",
     "text": [
      "39936 40315\n"
     ]
    },
    {
     "name": "stderr",
     "output_type": "stream",
     "text": [
      "100%|██████████| 40/40 [02:09<00:00,  3.24s/it]\n"
     ]
    }
   ],
   "source": [
    "all_rewards = []\n",
    "all_lengths = []\n",
    "all_correct_lengths = []\n",
    "all_incorrect_lengths = []\n",
    "\n",
    "for n in tqdm(range(0, 40315, 1024)):\n",
    "    \n",
    "    start = n\n",
    "    end = min(n + 1024, 40315)\n",
    "    print(start, end)\n",
    "    with open(f\"../../data/DeepScaleR-Preview-Dataset/pass_at_k_{start}_{end}.pkl\", \"rb\") as f:\n",
    "        data = pickle.load(f)\n",
    "    \n",
    "    rewards, lengths, correct_lengths, incorrect_lengths = get_stats(data)\n",
    "    all_rewards.extend(rewards)\n",
    "    all_lengths.extend(lengths)\n",
    "    all_correct_lengths.extend(correct_lengths)\n",
    "    all_incorrect_lengths.extend(incorrect_lengths)"
   ]
  },
  {
   "cell_type": "code",
   "execution_count": 50,
   "metadata": {},
   "outputs": [],
   "source": [
    "ds = ds.add_column('reward', all_rewards)\n",
    "ds = ds.add_column('length', all_lengths)\n",
    "ds = ds.add_column('correct_length', all_correct_lengths)\n",
    "ds = ds.add_column('incorrect_length', all_incorrect_lengths)"
   ]
  },
  {
   "cell_type": "code",
   "execution_count": 53,
   "metadata": {},
   "outputs": [
    {
     "data": {
      "text/plain": [
       "{'problem': 'Doug constructs a square window using $8$ equal-size panes of glass. The ratio of the height to width for each pane is $5 : 2$, and the borders around and between the panes are $2$ inches wide. In inches, what is the side length of the square window?',\n",
       " 'answer': '26',\n",
       " 'solution': '1. **Identify the dimensions of each pane**: Given that the ratio of the height to the width of each pane is $5:2$, let the height of each pane be $5x$ inches and the width be $2x$ inches.\\n\\n2. **Calculate the total dimensions of the window**: The window is constructed with $8$ panes arranged in $2$ rows and $4$ columns. The borders between and around the panes are $2$ inches wide.\\n\\n3. **Calculate the total width of the window**:\\n   - There are $4$ panes in each row, each with a width of $2x$ inches.\\n   - There are $3$ borders of $2$ inches each between the $4$ panes and $2$ borders of $2$ inches each on the sides of the window.\\n   - Therefore, the total width of the window is $4(2x) + 5(2) = 8x + 10$ inches.\\n\\n4. **Calculate the total height of the window**:\\n   - There are $2$ panes in each column, each with a height of $5x$ inches.\\n   - There is $1$ border of $2$ inches between the $2$ panes and $2$ borders of $2$ inches each at the top and bottom of the window.\\n   - Therefore, the total height of the window is $2(5x) + 3(2) = 10x + 6$ inches.\\n\\n5. **Set up the equation for the side length of the square window**:\\n   - Since the window is square, the total width must equal the total height:\\n   \\\\[\\n   8x + 10 = 10x + 6\\n   \\\\]\\n\\n6. **Solve for $x$**:\\n   - Subtract $8x$ from both sides:\\n   \\\\[\\n   10 = 2x + 6\\n   \\\\]\\n   - Subtract $6$ from both sides:\\n   \\\\[\\n   4 = 2x\\n   \\\\]\\n   - Divide both sides by $2$:\\n   \\\\[\\n   x = 2\\n   \\\\]\\n\\n7. **Calculate the side length of the window**:\\n   - Substitute $x = 2$ back into the expression for the total width (or height):\\n   \\\\[\\n   8(2) + 10 = 16 + 10 = 26 \\\\text{ inches}\\n   \\\\]\\n\\n8. **Conclude with the final answer**:\\n   \\\\[\\n   \\\\boxed{\\\\textbf{(A)}\\\\ 26}\\n   \\\\]',\n",
       " 'reward': 0.4375,\n",
       " 'length': 5610.125,\n",
       " 'correct_length': 4007.1428571428573,\n",
       " 'incorrect_length': 6856.888888888889}"
      ]
     },
     "execution_count": 53,
     "metadata": {},
     "output_type": "execute_result"
    }
   ],
   "source": [
    "ds[1]"
   ]
  },
  {
   "cell_type": "code",
   "execution_count": 54,
   "metadata": {},
   "outputs": [
    {
     "name": "stderr",
     "output_type": "stream",
     "text": [
      "Creating parquet from Arrow format: 100%|██████████| 41/41 [00:00<00:00, 568.47ba/s]\n",
      "Uploading the dataset shards: 100%|██████████| 1/1 [00:00<00:00,  1.54it/s]\n"
     ]
    },
    {
     "data": {
      "text/plain": [
       "CommitInfo(commit_url='https://huggingface.co/datasets/d1shs0ap/DeepScaleR-Preview-Dataset/commit/e24283e95064af494be91081040e128fb6d89816', commit_message='Upload dataset', commit_description='', oid='e24283e95064af494be91081040e128fb6d89816', pr_url=None, repo_url=RepoUrl('https://huggingface.co/datasets/d1shs0ap/DeepScaleR-Preview-Dataset', endpoint='https://huggingface.co', repo_type='dataset', repo_id='d1shs0ap/DeepScaleR-Preview-Dataset'), pr_revision=None, pr_num=None)"
      ]
     },
     "execution_count": 54,
     "metadata": {},
     "output_type": "execute_result"
    }
   ],
   "source": [
    "ds.push_to_hub(\"d1shs0ap/DeepScaleR-Preview-Dataset\")"
   ]
  },
  {
   "cell_type": "code",
   "execution_count": 63,
   "metadata": {},
   "outputs": [
    {
     "data": {
      "image/png": "[encoded data removed]",
      "text/plain": [
       "<Figure size 640x480 with 1 Axes>"
      ]
     },
     "metadata": {},
     "output_type": "display_data"
    }
   ],
   "source": [
    "sns.histplot(all_rewards, binwidth=0.0625, stat='percent')\n",
    "\n",
    "plt.xlabel('Probability of Correct Answer (Difficulty)')\n",
    "plt.show()"
   ]
  },
  {
   "cell_type": "code",
   "execution_count": 67,
   "metadata": {},
   "outputs": [],
   "source": [
    "subset_correct_lengths = []\n",
    "subset_incorrect_lengths = []\n",
    "\n",
    "for i in range(0, 17):\n",
    "    subset = ds.filter(lambda x: x['reward'] == i / 16)\n",
    "    average_correct_length = sum(subset['correct_length']) / len(subset)\n",
    "    average_incorrect_length = sum(subset['incorrect_length']) / len(subset)\n",
    "    subset_correct_lengths.append(average_correct_length)\n",
    "    subset_incorrect_lengths.append(average_incorrect_length)"
   ]
  },
  {
   "cell_type": "code",
   "execution_count": 71,
   "metadata": {},
   "outputs": [
    {
     "data": {
      "image/png": "[encoded data removed]",
      "text/plain": [
       "<Figure size 640x480 with 1 Axes>"
      ]
     },
     "metadata": {},
     "output_type": "display_data"
    }
   ],
   "source": [
    "sns.lineplot(x=[i / 16 for i in range(0, 17)][1:], y=subset_correct_lengths[1:], label='Correct lengths')\n",
    "sns.lineplot(x=[i / 16 for i in range(0, 17)][:-1], y=subset_incorrect_lengths[:-1], label='Incorrect lengths')\n",
    "plt.xlabel('Probability of Correct Answer (Difficulty)')\n",
    "plt.ylabel('Average Length')\n",
    "plt.legend()\n",
    "plt.show()"
   ]
  },
  {
   "cell_type": "code",
   "execution_count": null,
   "metadata": {},
   "outputs": [],
   "source": []
  }
 ],
 "metadata": {
  "kernelspec": {
   "display_name": "vllm3",
   "language": "python",
   "name": "python3"
  },
  "language_info": {
   "codemirror_mode": {
    "name": "ipython",
    "version": 3
   },
   "file_extension": ".py",
   "mimetype": "text/x-python",
   "name": "python",
   "nbconvert_exporter": "python",
   "pygments_lexer": "ipython3",
   "version": "3.12.8"
  }
 },
 "nbformat": 4,
 "nbformat_minor": 2
}
