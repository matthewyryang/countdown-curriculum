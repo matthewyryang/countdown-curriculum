{
 "cells": [
  {
   "cell_type": "code",
   "execution_count": 1,
   "metadata": {},
   "outputs": [
    {
     "name": "stderr",
     "output_type": "stream",
     "text": [
      "/home/myang4/miniconda3/envs/vllm3/lib/python3.12/site-packages/tqdm/auto.py:21: TqdmWarning: IProgress not found. Please update jupyter and ipywidgets. See https://ipywidgets.readthedocs.io/en/stable/user_install.html\n",
      "  from .autonotebook import tqdm as notebook_tqdm\n"
     ]
    }
   ],
   "source": [
    "import re\n",
    "import os\n",
    "from datasets import Dataset, load_dataset\n",
    "from random import randint, seed, choice\n",
    "from typing import List, Tuple\n",
    "from tqdm import tqdm\n",
    "import argparse\n",
    "from datasets import Dataset\n",
    "from collections import defaultdict"
   ]
  },
  {
   "cell_type": "code",
   "execution_count": 2,
   "metadata": {},
   "outputs": [],
   "source": [
    "def get_divisors_below(n, limit):\n",
    "    if n < 0:\n",
    "        n = -n\n",
    "    if n == 0:\n",
    "        return list(range(1, limit))\n",
    "\n",
    "    divisors = set()\n",
    "    for i in range(1, int(n**0.5) + 1):\n",
    "        if n % i == 0:\n",
    "            if i < limit:\n",
    "                divisors.add(i)\n",
    "            if (n // i) < limit:\n",
    "                divisors.add(n // i)\n",
    "    return sorted(divisors)\n",
    "\n",
    "def gen_dataset(\n",
    "    num_samples: int,\n",
    "    num_operands: int = 6,\n",
    "    max_operand: int = 100,\n",
    "    max_target: int = 1000,\n",
    "    operations: List[str] = ['+', '-', '*', '/'],\n",
    "    seed_value: int = 42,\n",
    ") -> List[Tuple]:\n",
    "    \"\"\"Generate dataset for countdown task.\n",
    "    \n",
    "    Args:\n",
    "        num_samples: Number of samples to generate\n",
    "        num_operands: Number of numbers provided in each sample\n",
    "        max_target: Maximum value for target number\n",
    "        min_number: Minimum value for provided numbers\n",
    "        max_number: Maximum value for provided numbers\n",
    "        operations: List of allowed operations\n",
    "        seed_value: Random seed for reproducibility\n",
    "        \n",
    "    Returns:\n",
    "        List of tuples containing (target, numbers, solution)\n",
    "    \"\"\"\n",
    "    seed(seed_value)\n",
    "    samples = set()\n",
    "    \n",
    "    while len(samples) < num_samples:\n",
    "        # Generate random target\n",
    "        target = randint(1, max_target)\n",
    "        original_target = target\n",
    "\n",
    "        numbers = []\n",
    "        for _ in range(num_operands - 1):\n",
    "            op = choice(operations)\n",
    "            \n",
    "            if op == '+':\n",
    "                num = randint(1, max_operand)\n",
    "                target += num\n",
    "            \n",
    "            elif op == '-':\n",
    "                num = randint(1, max_operand)\n",
    "                target -= num\n",
    "\n",
    "            elif op == '*':\n",
    "                num = randint(1, max_operand)\n",
    "                target *= num\n",
    "            \n",
    "            elif op == '/':\n",
    "                divisors = get_divisors_below(n=target, limit=max_operand)\n",
    "                num = choice(divisors)\n",
    "                target //= num\n",
    "            \n",
    "            else:\n",
    "                raise ValueError(f\"Invalid operation: {op}\")\n",
    "        \n",
    "            assert 1 <= num <= max_operand\n",
    "            numbers.append(num)\n",
    "        \n",
    "        if 1 <= target <= max_operand:\n",
    "            numbers.append(target)\n",
    "            samples.add(tuple([original_target, tuple(numbers)]))\n",
    "    \n",
    "    return samples"
   ]
  },
  {
   "cell_type": "code",
   "execution_count": 3,
   "metadata": {},
   "outputs": [],
   "source": [
    "def solve_countdown(candidates, target):\n",
    "    if len(candidates) == 1:\n",
    "        return abs(candidates[0] - target) < 0.001, []\n",
    "    \n",
    "    ans = False\n",
    "    for i in range(len(candidates)):\n",
    "        for j in range(i+1, len(candidates)):\n",
    "            ops = [\n",
    "                (f\"{candidates[i]} + {candidates[j]}\", candidates[i] + candidates[j]), \n",
    "                (f\"{candidates[i]} - {candidates[j]}\", candidates[i] - candidates[j]), \n",
    "                (f\"{candidates[j]} - {candidates[i]}\", candidates[j] - candidates[i]), \n",
    "                (f\"{candidates[i]} * {candidates[j]}\", candidates[i] * candidates[j])\n",
    "            ]\n",
    "            \n",
    "            if candidates[i] != 0:\n",
    "                ops.append((f\"{candidates[j]} / {candidates[i]}\", candidates[j] / candidates[i]))\n",
    "            if candidates[j] != 0:\n",
    "                ops.append((f\"{candidates[i]} / {candidates[j]}\", candidates[i] / candidates[j]))\n",
    "            \n",
    "            new_candidates = [candidates[k] for k in range(len(candidates)) if k != i and k != j]\n",
    "\n",
    "            for op_name, op in ops:\n",
    "                ans, op_lst = solve_countdown(new_candidates+[op], target)\n",
    "                if ans:\n",
    "                    return ans, [(candidates, op_name, new_candidates+[op])] + op_lst\n",
    "\n",
    "    return False, None"
   ]
  },
  {
   "cell_type": "code",
   "execution_count": 4,
   "metadata": {},
   "outputs": [],
   "source": [
    "difficulty_to_dataset = defaultdict(set)\n",
    "for difficulty in range(3, 10):\n",
    "    difficulty_to_dataset[difficulty] = list(gen_dataset(6000, num_operands=difficulty))"
   ]
  },
  {
   "cell_type": "code",
   "execution_count": 5,
   "metadata": {},
   "outputs": [],
   "source": [
    "def gen(split):\n",
    "    if split == 'train':\n",
    "        for difficulty in range(3, 10):\n",
    "            for target, numbers in difficulty_to_dataset[difficulty][:5000]:\n",
    "                yield {'target': target, 'nums': numbers}\n",
    "    elif split == 'test':\n",
    "        for difficulty in range(3, 10):\n",
    "            for target, numbers in difficulty_to_dataset[difficulty][5000:]:\n",
    "                yield {'target': target, 'nums': numbers}"
   ]
  },
  {
   "cell_type": "code",
   "execution_count": 6,
   "metadata": {},
   "outputs": [
    {
     "name": "stderr",
     "output_type": "stream",
     "text": [
      "Generating train split: 35000 examples [00:00, 212027.51 examples/s]\n",
      "Generating train split: 7000 examples [00:00, 356355.48 examples/s]\n"
     ]
    }
   ],
   "source": [
    "train = Dataset.from_generator(gen, gen_kwargs={\"split\": 'train'})\n",
    "test = Dataset.from_generator(gen, gen_kwargs={\"split\": 'test'})"
   ]
  },
  {
   "cell_type": "code",
   "execution_count": 7,
   "metadata": {},
   "outputs": [
    {
     "name": "stderr",
     "output_type": "stream",
     "text": [
      "Creating parquet from Arrow format: 100%|██████████| 35/35 [00:00<00:00, 3324.29ba/s]\n",
      "Uploading the dataset shards: 100%|██████████| 1/1 [00:00<00:00,  1.07it/s]\n",
      "Creating parquet from Arrow format: 100%|██████████| 7/7 [00:00<00:00, 4389.97ba/s]\n",
      "Uploading the dataset shards: 100%|██████████| 1/1 [00:00<00:00,  2.98it/s]\n"
     ]
    },
    {
     "data": {
      "text/plain": [
       "CommitInfo(commit_url='https://huggingface.co/datasets/d1shs0ap/countdown-3-4-5-6-7-8-9/commit/e1d1b209456fd9710a40212460d3aa3832c7e38b', commit_message='Upload dataset', commit_description='', oid='e1d1b209456fd9710a40212460d3aa3832c7e38b', pr_url=None, repo_url=RepoUrl('https://huggingface.co/datasets/d1shs0ap/countdown-3-4-5-6-7-8-9', endpoint='https://huggingface.co', repo_type='dataset', repo_id='d1shs0ap/countdown-3-4-5-6-7-8-9'), pr_revision=None, pr_num=None)"
      ]
     },
     "execution_count": 7,
     "metadata": {},
     "output_type": "execute_result"
    }
   ],
   "source": [
    "hub_dataset_name = f\"d1shs0ap/countdown-3-4-5-6-7-8-9\"\n",
    "\n",
    "train.push_to_hub(\n",
    "    hub_dataset_name,\n",
    "    revision='main',\n",
    "    split='train',\n",
    "    private=True,\n",
    ")\n",
    "\n",
    "test.push_to_hub(\n",
    "    hub_dataset_name,\n",
    "    revision='main',\n",
    "    split='test',\n",
    "    private=True,\n",
    ")"
   ]
  },
  {
   "cell_type": "code",
   "execution_count": null,
   "metadata": {},
   "outputs": [],
   "source": []
  }
 ],
 "metadata": {
  "kernelspec": {
   "display_name": "vllm3",
   "language": "python",
   "name": "python3"
  },
  "language_info": {
   "codemirror_mode": {
    "name": "ipython",
    "version": 3
   },
   "file_extension": ".py",
   "mimetype": "text/x-python",
   "name": "python",
   "nbconvert_exporter": "python",
   "pygments_lexer": "ipython3",
   "version": "3.12.8"
  }
 },
 "nbformat": 4,
 "nbformat_minor": 2
}
