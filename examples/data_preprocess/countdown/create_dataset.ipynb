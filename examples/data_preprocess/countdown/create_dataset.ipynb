{
 "cells": [
  {
   "cell_type": "code",
   "execution_count": 1,
   "id": "c745d28d",
   "metadata": {},
   "outputs": [
    {
     "name": "stderr",
     "output_type": "stream",
     "text": [
      "/home/myang4/miniconda3/envs/verl/lib/python3.10/site-packages/tqdm/auto.py:21: TqdmWarning: IProgress not found. Please update jupyter and ipywidgets. See https://ipywidgets.readthedocs.io/en/stable/user_install.html\n",
      "  from .autonotebook import tqdm as notebook_tqdm\n"
     ]
    }
   ],
   "source": [
    "import re\n",
    "import os\n",
    "from datasets import load_dataset, concatenate_datasets"
   ]
  },
  {
   "cell_type": "code",
   "execution_count": 2,
   "id": "529828fc",
   "metadata": {},
   "outputs": [],
   "source": [
    "def make_prefix(dp, template_type):\n",
    "    target = dp['target']\n",
    "    numbers = dp['nums']\n",
    "    # NOTE: also need to change reward_score/countdown.py\n",
    "    if template_type == 'base':\n",
    "        \"\"\"This works for any base model\"\"\"\n",
    "        prefix = f\"\"\"A conversation between User and Assistant. The user asks a question, and the Assistant solves it. The assistant first thinks about the reasoning process in the mind and then provides the user with the answer.\n",
    "User: Using the numbers {numbers}, create an equation that equals {target}. You can use basic arithmetic operations (+, -, *, /) and each number can only be used once. Show your work in <think> </think> tags. And return the final answer in <answer> </answer> tags, for example <answer> (1 + 2) / 3 </answer>.\n",
    "Assistant: Let me solve this step by step.\n",
    "\"\"\"\n",
    "    elif template_type == 'qwen-instruct':\n",
    "        \"\"\"This works for Qwen Instruct Models\"\"\"\n",
    "        prefix = f\"\"\"<|im_start|>system\\nYou are a helpful assistant. You first thinks about the reasoning process in the mind and then provides the user with the answer.<|im_end|>\\n<|im_start|>user\\n Using the numbers {numbers}, create an equation that equals {target}. You can use basic arithmetic operations (+, -, *, /) and each number can only be used once. Show your work in <think> </think> tags. And return the final answer in <answer> </answer> tags, for example <answer> (1 + 2) / 3 </answer>.<|im_end|>\\n<|im_start|>assistant\\nLet me solve this step by step.\\n<think>\"\"\"\n",
    "    return prefix"
   ]
  },
  {
   "cell_type": "code",
   "execution_count": 3,
   "id": "442ce63f",
   "metadata": {},
   "outputs": [],
   "source": [
    "dataset = load_dataset('d1shs0ap/countdown-final', split='train')\n",
    "\n",
    "def make_map_fn(split):\n",
    "    def process_fn(example, idx):\n",
    "        question = make_prefix(example, template_type='base')\n",
    "        solution = {\n",
    "            \"target\": example['target'],\n",
    "            \"numbers\": example['nums']\n",
    "        }\n",
    "        data = {\n",
    "            \"data_source\": 'countdown',\n",
    "            \"prompt\": [{\n",
    "                \"role\": \"user\",\n",
    "                \"content\": question,\n",
    "            }],\n",
    "            \"ability\": \"math\",\n",
    "            \"reward_model\": {\n",
    "                \"style\": \"rule\",\n",
    "                \"ground_truth\": solution\n",
    "            },\n",
    "            \"extra_info\": {\n",
    "                'split': split,\n",
    "                'index': idx,\n",
    "            }\n",
    "        }\n",
    "        return data\n",
    "    return process_fn\n",
    "\n",
    "dataset = dataset.map(function=make_map_fn('train'), with_indices=True)"
   ]
  },
  {
   "cell_type": "code",
   "execution_count": 4,
   "id": "21aa8f14",
   "metadata": {},
   "outputs": [
    {
     "name": "stderr",
     "output_type": "stream",
     "text": [
      "Creating parquet from Arrow format:   0%|          | 0/5 [00:00<?, ?ba/s]"
     ]
    },
    {
     "name": "stderr",
     "output_type": "stream",
     "text": [
      "Creating parquet from Arrow format: 100%|██████████| 5/5 [00:00<00:00, 18.24ba/s]\n"
     ]
    },
    {
     "data": {
      "text/plain": [
       "3591577"
      ]
     },
     "execution_count": 4,
     "metadata": {},
     "output_type": "execute_result"
    }
   ],
   "source": [
    "test_dataset = dataset.map(function=make_map_fn('test'), with_indices=True).filter(lambda x: len(x['nums']) in [3, 4, 7])\n",
    "test_dataset.to_parquet(os.path.join('/home/myang4/countdown-curriculum/data/countdown', 'test-3-4-7.parquet'))"
   ]
  },
  {
   "cell_type": "code",
   "execution_count": 5,
   "id": "26532061",
   "metadata": {},
   "outputs": [],
   "source": [
    "threes = dataset.filter(lambda x: len(x['nums']) == 3)\n",
    "fours = dataset.filter(lambda x: len(x['nums']) == 4)\n",
    "sixes = dataset.filter(lambda x: len(x['nums']) == 6)\n",
    "sevens = dataset.filter(lambda x: len(x['nums']) == 7)\n",
    "nines = dataset.filter(lambda x: len(x['nums']) == 9)"
   ]
  },
  {
   "cell_type": "code",
   "execution_count": 6,
   "id": "a0ade59f",
   "metadata": {},
   "outputs": [],
   "source": [
    "first = concatenate_datasets([threes.select(range(640)), fours.select(range(640))]).shuffle(seed=42)\n",
    "first_three = threes.select(range(1280)).shuffle(seed=42)\n",
    "first_four = fours.select(range(1280)).shuffle(seed=42)\n",
    "second = concatenate_datasets([threes.select(range(640, 640 + 64)), fours.select(range(640, 640 + 64)), sevens.select(range(640 - 128))]).shuffle(seed=42)"
   ]
  },
  {
   "cell_type": "code",
   "execution_count": 9,
   "id": "a40eec44",
   "metadata": {},
   "outputs": [],
   "source": [
    "real_second = concatenate_datasets([second, second]).shuffle(seed=42)\n",
    "all = concatenate_datasets([first, real_second]).shuffle(seed=42)\n",
    "real_all = concatenate_datasets([all, all.select(range(1280))]).shuffle(seed=42)"
   ]
  },
  {
   "cell_type": "code",
   "execution_count": 11,
   "id": "df83771f",
   "metadata": {},
   "outputs": [
    {
     "name": "stderr",
     "output_type": "stream",
     "text": [
      "Filter: 100%|██████████| 1280/1280 [00:00<00:00, 16731.62 examples/s]\n"
     ]
    },
    {
     "data": {
      "text/plain": [
       "Dataset({\n",
       "    features: ['nums', 'expr', 'target', 'data_source', 'prompt', 'ability', 'reward_model', 'extra_info'],\n",
       "    num_rows: 0\n",
       "})"
      ]
     },
     "execution_count": 11,
     "metadata": {},
     "output_type": "execute_result"
    }
   ],
   "source": [
    "first_three.filter(lambda x: len(x['nums']) == 6)"
   ]
  },
  {
   "cell_type": "code",
   "execution_count": 18,
   "id": "c1a397ea",
   "metadata": {},
   "outputs": [
    {
     "name": "stderr",
     "output_type": "stream",
     "text": [
      "Creating parquet from Arrow format: 100%|██████████| 2/2 [00:00<00:00, 28.86ba/s]\n",
      "Creating parquet from Arrow format: 100%|██████████| 2/2 [00:00<00:00, 29.20ba/s]\n",
      "Creating parquet from Arrow format: 100%|██████████| 2/2 [00:00<00:00, 29.71ba/s]\n",
      "Creating parquet from Arrow format: 100%|██████████| 2/2 [00:00<00:00, 29.54ba/s]\n",
      "Creating parquet from Arrow format: 100%|██████████| 4/4 [00:00<00:00, 18.62ba/s]\n"
     ]
    },
    {
     "data": {
      "text/plain": [
       "2899534"
      ]
     },
     "execution_count": 18,
     "metadata": {},
     "output_type": "execute_result"
    }
   ],
   "source": [
    "first.to_parquet(os.path.join('/home/myang4/countdown-curriculum/data/countdown', 'train-3-4.parquet'))\n",
    "first_three.to_parquet(os.path.join('/home/myang4/countdown-curriculum/data/countdown', 'train-3.parquet'))\n",
    "first_four.to_parquet(os.path.join('/home/myang4/countdown-curriculum/data/countdown', 'train-4.parquet'))\n",
    "real_second.to_parquet(os.path.join('/home/myang4/countdown-curriculum/data/countdown', 'train-7.parquet'))\n",
    "real_all.to_parquet(os.path.join('/home/myang4/countdown-curriculum/data/countdown', 'train-3-4-7.parquet'))"
   ]
  },
  {
   "cell_type": "markdown",
   "id": "221a6ada",
   "metadata": {},
   "source": [
    "### 3, 6 curriculum"
   ]
  },
  {
   "cell_type": "code",
   "execution_count": 4,
   "id": "23b2b77f",
   "metadata": {},
   "outputs": [],
   "source": [
    "three_six = dataset.filter(lambda x: len(x['nums']) == 3 or len(x['nums']) == 6).shuffle(seed=42)"
   ]
  },
  {
   "cell_type": "code",
   "execution_count": 5,
   "id": "fe9bec7b",
   "metadata": {},
   "outputs": [
    {
     "name": "stderr",
     "output_type": "stream",
     "text": [
      "Creating parquet from Arrow format: 100%|██████████| 4/4 [00:00<00:00, 24.09ba/s]\n"
     ]
    },
    {
     "data": {
      "text/plain": [
       "2384525"
      ]
     },
     "execution_count": 5,
     "metadata": {},
     "output_type": "execute_result"
    }
   ],
   "source": [
    "three_six.to_parquet(os.path.join('/home/cmu/countdown-curriculum/data/countdown', '3-and-6.parquet'))"
   ]
  },
  {
   "cell_type": "code",
   "execution_count": 6,
   "id": "faf84be3",
   "metadata": {},
   "outputs": [],
   "source": [
    "three_six_times_two_and_a_half = concatenate_datasets([three_six, three_six, three_six]).select(range(0, 7680))"
   ]
  },
  {
   "cell_type": "code",
   "execution_count": 7,
   "id": "cb912312",
   "metadata": {},
   "outputs": [
    {
     "name": "stderr",
     "output_type": "stream",
     "text": [
      "Creating parquet from Arrow format: 100%|██████████| 8/8 [00:00<00:00, 20.59ba/s]\n"
     ]
    },
    {
     "data": {
      "text/plain": [
       "5724120"
      ]
     },
     "execution_count": 7,
     "metadata": {},
     "output_type": "execute_result"
    }
   ],
   "source": [
    "three_six_times_two_and_a_half.to_parquet(os.path.join('/home/cmu/countdown-curriculum/data/countdown', '3-and-6-x2.5.parquet'))"
   ]
  },
  {
   "cell_type": "code",
   "execution_count": null,
   "id": "46de2cc5",
   "metadata": {},
   "outputs": [],
   "source": [
    "zero.to_parquet(os.path.join('/home/cmu/countdown-curriculum/data/countdown', '1-easy.parquet'))"
   ]
  },
  {
   "cell_type": "code",
   "execution_count": 4,
   "id": "67a075e4",
   "metadata": {},
   "outputs": [],
   "source": [
    "easy = dataset.filter(lambda example: 3 <= len(example['nums']) <= 4)\n",
    "medium = dataset.filter(lambda example: 5 <= len(example['nums']) <= 6)\n",
    "hard = dataset.filter(lambda example: 7 <= len(example['nums']) <= 8)"
   ]
  },
  {
   "cell_type": "code",
   "execution_count": 5,
   "id": "dea2bfec",
   "metadata": {},
   "outputs": [],
   "source": [
    "half_size = len(easy) // 2\n",
    "easy_first_half = easy.select(range(half_size))\n",
    "easy_second_half = easy.select(range(half_size, len(easy)))\n",
    "\n",
    "medium_first_half = medium.select(range(half_size))\n",
    "medium_second_half = medium.select(range(half_size, len(medium)))"
   ]
  },
  {
   "cell_type": "markdown",
   "id": "85881a35",
   "metadata": {},
   "source": [
    "### 1 easy, 2 hard | 1 easy -> 2 hard"
   ]
  },
  {
   "cell_type": "code",
   "execution_count": 6,
   "id": "871c3e20",
   "metadata": {},
   "outputs": [
    {
     "name": "stderr",
     "output_type": "stream",
     "text": [
      "Creating parquet from Arrow format: 100%|██████████| 4/4 [00:00<00:00, 24.43ba/s]\n"
     ]
    },
    {
     "data": {
      "text/plain": [
       "2305746"
      ]
     },
     "execution_count": 6,
     "metadata": {},
     "output_type": "execute_result"
    }
   ],
   "source": [
    "zero = easy.shuffle(seed=42)\n",
    "zero.to_parquet(os.path.join('/home/cmu/countdown-curriculum/data/countdown', '1-easy.parquet'))"
   ]
  },
  {
   "cell_type": "code",
   "execution_count": 10,
   "id": "21b943bc",
   "metadata": {},
   "outputs": [
    {
     "name": "stderr",
     "output_type": "stream",
     "text": [
      "Creating parquet from Arrow format:   0%|          | 0/10 [00:00<?, ?ba/s]"
     ]
    },
    {
     "name": "stderr",
     "output_type": "stream",
     "text": [
      "Creating parquet from Arrow format: 100%|██████████| 10/10 [00:00<00:00, 21.09ba/s]\n"
     ]
    },
    {
     "data": {
      "text/plain": [
       "7547388"
      ]
     },
     "execution_count": 10,
     "metadata": {},
     "output_type": "execute_result"
    }
   ],
   "source": [
    "one = concatenate_datasets([easy, hard, hard]).shuffle(seed=42)\n",
    "one.to_parquet(os.path.join('/home/cmu/countdown-curriculum/data/countdown', '1-easy-2-hard.parquet'))"
   ]
  },
  {
   "cell_type": "code",
   "execution_count": 9,
   "id": "6b0a2b98",
   "metadata": {},
   "outputs": [
    {
     "name": "stderr",
     "output_type": "stream",
     "text": [
      "Creating parquet from Arrow format:   0%|          | 0/20 [00:00<?, ?ba/s]"
     ]
    },
    {
     "name": "stderr",
     "output_type": "stream",
     "text": [
      "Creating parquet from Arrow format: 100%|██████████| 20/20 [00:00<00:00, 20.91ba/s]\n"
     ]
    },
    {
     "data": {
      "text/plain": [
       "15094776"
      ]
     },
     "execution_count": 9,
     "metadata": {},
     "output_type": "execute_result"
    }
   ],
   "source": [
    "one = concatenate_datasets([zero, concatenate_datasets([easy, hard, hard, hard, hard]).shuffle(seed=42)])\n",
    "one.to_parquet(os.path.join('/home/cmu/countdown-curriculum/data/countdown', '1-easy-4-hard.parquet'))"
   ]
  },
  {
   "cell_type": "markdown",
   "id": "6d8a8d3d",
   "metadata": {},
   "source": [
    "### 1 easy, 2 medium | 1 easy, 1 medium, 3 hard"
   ]
  },
  {
   "cell_type": "code",
   "execution_count": 7,
   "id": "55580e97",
   "metadata": {},
   "outputs": [
    {
     "name": "stderr",
     "output_type": "stream",
     "text": [
      "Creating parquet from Arrow format: 100%|██████████| 4/4 [00:00<00:00, 24.56ba/s]\n"
     ]
    },
    {
     "data": {
      "text/plain": [
       "2305746"
      ]
     },
     "execution_count": 7,
     "metadata": {},
     "output_type": "execute_result"
    }
   ],
   "source": [
    "zero = easy.shuffle(seed=42)\n",
    "zero.to_parquet(os.path.join('/home/cmu/countdown-curriculum/data/countdown', '1-easy.parquet'))"
   ]
  },
  {
   "cell_type": "code",
   "execution_count": 13,
   "id": "4cf0369b",
   "metadata": {},
   "outputs": [
    {
     "name": "stderr",
     "output_type": "stream",
     "text": [
      "Creating parquet from Arrow format:   0%|          | 0/13 [00:00<?, ?ba/s]"
     ]
    },
    {
     "name": "stderr",
     "output_type": "stream",
     "text": [
      "Creating parquet from Arrow format: 100%|██████████| 13/13 [00:00<00:00, 21.76ba/s]\n"
     ]
    },
    {
     "data": {
      "text/plain": [
       "9537894"
      ]
     },
     "execution_count": 13,
     "metadata": {},
     "output_type": "execute_result"
    }
   ],
   "source": [
    "one = concatenate_datasets([easy, concatenate_datasets([medium, medium, easy]).shuffle(seed=42)])\n",
    "one.to_parquet(os.path.join('/home/cmu/countdown-curriculum/data/countdown', '1-easy-2-medium.parquet'))\n"
   ]
  },
  {
   "cell_type": "code",
   "execution_count": 15,
   "id": "6ca9bdcd",
   "metadata": {},
   "outputs": [
    {
     "name": "stdout",
     "output_type": "stream",
     "text": [
      "All checks passed. The datasets are identical.\n"
     ]
    }
   ],
   "source": [
    "for i in range(len(easy)):\n",
    "    assert one[i] == easy[i], f\"Mismatch at index {i}: {one[i]} != {easy[i]}\"\n",
    "print(\"All checks passed. The datasets are identical.\")"
   ]
  },
  {
   "cell_type": "code",
   "execution_count": 16,
   "id": "5d0dc763",
   "metadata": {},
   "outputs": [
    {
     "name": "stderr",
     "output_type": "stream",
     "text": [
      "Creating parquet from Arrow format:   0%|          | 0/29 [00:00<?, ?ba/s]"
     ]
    },
    {
     "name": "stderr",
     "output_type": "stream",
     "text": [
      "Creating parquet from Arrow format: 100%|██████████| 29/29 [00:01<00:00, 21.34ba/s]\n"
     ]
    },
    {
     "data": {
      "text/plain": [
       "22169304"
      ]
     },
     "execution_count": 16,
     "metadata": {},
     "output_type": "execute_result"
    }
   ],
   "source": [
    "two = concatenate_datasets([one, concatenate_datasets([hard, hard, hard, medium, easy]).shuffle(seed=42)])\n",
    "two.to_parquet(os.path.join('/home/cmu/countdown-curriculum/data/countdown', '1-easy-1-medium-3-hard.parquet'))"
   ]
  },
  {
   "cell_type": "code",
   "execution_count": 17,
   "id": "fcbcd6cd",
   "metadata": {},
   "outputs": [
    {
     "name": "stdout",
     "output_type": "stream",
     "text": [
      "All checks passed. The datasets are identical.\n"
     ]
    }
   ],
   "source": [
    "for i in range(len(one)):\n",
    "    assert one[i] == two[i], f\"Mismatch at index {i}: {one[i]} != {two[i]}\"\n",
    "print(\"All checks passed. The datasets are identical.\")"
   ]
  },
  {
   "cell_type": "markdown",
   "id": "b39854c0",
   "metadata": {},
   "source": [
    "### 0.5 easy, 2.5 medium | 0.5 easy, 0.5 medium, 3 hard"
   ]
  },
  {
   "cell_type": "code",
   "execution_count": 41,
   "id": "863a8dbf",
   "metadata": {},
   "outputs": [
    {
     "name": "stderr",
     "output_type": "stream",
     "text": [
      "Creating parquet from Arrow format: 100%|██████████| 10/10 [00:00<00:00, 22.38ba/s]\n"
     ]
    },
    {
     "data": {
      "text/plain": [
       "7310821"
      ]
     },
     "execution_count": 41,
     "metadata": {},
     "output_type": "execute_result"
    }
   ],
   "source": [
    "tmp = concatenate_datasets([easy_first_half, medium, medium, medium_first_half])\n",
    "tmp.to_parquet(os.path.join('/home/cmu/countdown-curriculum/data/countdown', '0.5-easy-2.5-medium.parquet'))"
   ]
  },
  {
   "cell_type": "code",
   "execution_count": 42,
   "id": "815bbc09",
   "metadata": {},
   "outputs": [
    {
     "name": "stderr",
     "output_type": "stream",
     "text": [
      "Creating parquet from Arrow format: 100%|██████████| 13/13 [00:00<00:00, 19.77ba/s]\n"
     ]
    },
    {
     "data": {
      "text/plain": [
       "10246991"
      ]
     },
     "execution_count": 42,
     "metadata": {},
     "output_type": "execute_result"
    }
   ],
   "source": [
    "tmp = concatenate_datasets([easy_second_half, medium_second_half, hard, hard, hard])\n",
    "tmp.to_parquet(os.path.join('/home/cmu/countdown-curriculum/data/countdown', '0.5-easy-0.5-medium-3-hard.parquet'))"
   ]
  },
  {
   "cell_type": "code",
   "execution_count": null,
   "id": "94f6916b",
   "metadata": {},
   "outputs": [],
   "source": []
  }
 ],
 "metadata": {
  "kernelspec": {
   "display_name": "verl",
   "language": "python",
   "name": "python3"
  },
  "language_info": {
   "codemirror_mode": {
    "name": "ipython",
    "version": 3
   },
   "file_extension": ".py",
   "mimetype": "text/x-python",
   "name": "python",
   "nbconvert_exporter": "python",
   "pygments_lexer": "ipython3",
   "version": "3.10.0"
  }
 },
 "nbformat": 4,
 "nbformat_minor": 5
}
